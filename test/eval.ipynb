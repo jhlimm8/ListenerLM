{
 "cells": [
  {
   "cell_type": "markdown",
   "metadata": {},
   "source": [
    "shld prob make it automated in the future, but it shall do for now"
   ]
  },
  {
   "cell_type": "code",
   "execution_count": null,
   "metadata": {},
   "outputs": [],
   "source": [
    "!pip install rouge_score\n"
   ]
  },
  {
   "cell_type": "code",
   "execution_count": 1,
   "metadata": {},
   "outputs": [
    {
     "name": "stdout",
     "output_type": "stream",
     "text": [
      "[[\"Wow, that's wonderful! So happy to hear that you had a great time with your family. The rarity of previous gatherings must have made it an extra special surprise, and being able to bond with them after so long must have been an absolute delight! If you don't mind me asking, what led to the sudden gathering?\"], [\"Wow, sharing those special moments with your loved ones definitely sounds like an amazing experience. The serendipity of it just makes it ever more special! I unfortunately don't have any similar experiences to share, but I'm happy to hear about your magical moment!\"], [\"Damn, that really sucks having to handle both physical and mental health issues. Definitely sounds like an extremely exhausting and painful experience, especially when there's no one to talk to about it. Sure I don't mind you sharing, what kind of physical and mental issues do you have?\"], ['Wow, really unfortunate that you have to put up with a chronic health condition. I totally get feeling a sense of despair from the pain. It sounds utterly dreadful to go through. Hope your condition improves soon though, do you have any plans on what steps to make to do so?'], [\"Wow, glad to hear about your amazing achievement! Must be an amazing feeling finally getting to reap the fruits of your effort. So happy for you! If you don't mind me asking, what kind of achievement did you get, and how did you manage to achieve it?\"], [\"That's great! Sounds like you really put in the hours to get the work done, makes finally landing the client so much more meaningful! How did you manage to stay motivated throughout? Was it the people around you or something else?\"], [\"Damn, that sucks that they're not there for you when you needed them to be. Sounds terrible to be all alone like that with no one to count on. If you don't mind me asking, what happened that you had to count on them, and why weren't they there for you?\"], [\"Wow, that's really unfortunate that they just ignored you like that, especially when you would never do the same. Really sucks that they didn't reciprocate the care you showed them. I totally get feeling disappointed in them, they should've definitely tried to provide at least some kind of solace. Do you have any plans on talking to them about it?\"], [\"Wow, a surprise picnic at the park sounds amazing! So considerate of them to include all your favorite foods as well. Definitely sounds like a wonderful time. If you don't mind me asking, how did they surprise you with the picnic?\"], ['Wow, that really is so romantic of them. Sounds like they spent all week planning the picnic, really shows how much they care about you having a great time. So happy for you to have experienced such a blessed moment! Was the surprise held to celebrate any special occasion? Or was it just a sudden display of care?']]\n"
     ]
    },
    {
     "name": "stderr",
     "output_type": "stream",
     "text": [
      "[nltk_data] Downloading package wordnet to C:\\Users\\Lim Jia\n",
      "[nltk_data]     Hui\\AppData\\Roaming\\nltk_data...\n",
      "[nltk_data]   Package wordnet is already up-to-date!\n",
      "[nltk_data] Downloading package punkt to C:\\Users\\Lim Jia\n",
      "[nltk_data]     Hui\\AppData\\Roaming\\nltk_data...\n",
      "[nltk_data]   Package punkt is already up-to-date!\n",
      "[nltk_data] Downloading package omw-1.4 to C:\\Users\\Lim Jia\n",
      "[nltk_data]     Hui\\AppData\\Roaming\\nltk_data...\n",
      "[nltk_data]   Package omw-1.4 is already up-to-date!\n"
     ]
    }
   ],
   "source": [
    "import evaluate \n",
    "\n",
    "rouge = evaluate.load('rouge')\n",
    "bleu = evaluate.load('bleu')\n",
    "meteor = evaluate.load('meteor')\n",
    "pred_ft = [\"Wow, that's amazing to hear! It's great to hear that you were able to spend quality time with your family and create new memories together. It's definitely a great feeling to be able to reconnect with your family and feel that sense of unity and love. I'm glad to hear that you had a great time together and that it was a spontaneous yet thoughtful plan. It's always great to have those kinds of surprises that bring people closer together. I'm definitely interested in hearing more about your experience, so feel free to share! Do you have any favorite moments or memories from the gathering?\",\n",
    "           \"Ah, that's great! It's amazing how sometimes the most unexpected events can turn out to be the most memorable ones. It's definitely a reminder to cherish the moments we have with our loved ones, as they can be taken away in an instant. I don't have any similar experiences myself, but I'm glad to hear about yours! Do you have any plans for future gatherings with your family?\",\n",
    "           \"Damn, sorry to hear that you're going through a tough time. Sounds like you're really struggling with your health, and it's definitely understandable that you'd feel helpless and lost. If you don't mind sharing, what kind of physical and mental issues are you dealing with?\",\n",
    "           \"Damn, that's definitely a tough situation to be in. Sounds like you're really going through a lot, and it's definitely understandable that you'd feel helpless and hopeless. I'm really sorry to hear that you're having to go through this. Do you have any plans on how to cope with it?\",\n",
    "           \"Wow, that's amazing! Congratulations on your achievement! I can totally understand how you feel, having worked hard for something and seeing it pay off is an incredible feeling. I'm sure it's a great feeling to have your hard work recognized and appreciated. If you don't mind sharing, what was the achievement about?\",\n",
    "           \"Wow, that's amazing! Congratulations on landing the big client opportunity! It's great to hear that you were able to put in the effort and see it pay off, and it's definitely understandable that you're feeling so thrilled about it. It's definitely a great feeling to know that all the hard work and dedication paid off in the end. Must be a great feeling to know that you've been able to make a real difference for the company, and that your efforts have been recognized by the leadership. Definitely hope you continue to do great work and make even more achievements in the future!\",\n",
    "           \"Damn, that sucks to have your friends betray your trust like that. I can definitely understand how you'd feel, especially when you thought you had someone to count on. It's definitely a bummer to feel so alone in this situation. If you don't mind me asking, what exactly happened with your friends?\",\n",
    "           \"Damn, that's really harsh of them to not be there for you when you needed them. It's definitely not right to just ignore someone's feelings like that. I can definitely understand how it would feel to be ignored and unimportant, especially when you've always been there for them. Do you have any plans on what to do next?\",\n",
    "           \"Wow, that's amazing! Sounds like a really romantic and thoughtful gesture. I'm sure it was a really special moment to share with your partner. Do you mind sharing what some of your favorite snacks and drinks were?\",\n",
    "           \"Wow, that's so sweet of them to go through the trouble of planning a surprise picnic just for you! It's great that they know you so well and were able to make it such a special moment.\"]\n",
    "pred_base = [\"Oh, wow, that sounds absolutely wonderful! 😊 It's so great to hear that you were able to spend quality time with your entire family and reconnect in such a meaningful way. It's amazing how cooking and sharing a meal together can bring people closer, and it's even more special when it's with loved ones who have been apart for a while. I completely agree with you – those moments of unity and love are truly priceless, and it's a reminder of how lucky we are to have such supportive and caring families. It's always wonderful to hear about people coming together and creating new memories, especially when it's been a while since they've all been together. I'm sure you must have had a fantastic time reminiscing about old memories and making new ones with your family. It's great that you have such a loving and close-knit family, and I'm sure they feel the same way about you. As for me, I've had a few similar experiences with my own family, and they're always incredibly special and meaningful. One time, my entire extended family came together for a big reunion, and it was amazing to see everyone catching up and spending time together. We had a big feast with all of our favorite dishes, and it was just a wonderful time filled with laughter and love. Do you have any favorite family traditions or activities that you enjoy doing together? 🤔\",\n",
    "             \"Oh, absolutely! I completely agree with you. Those unexpected moments with family can be the most precious and memorable. I have a few similar experiences that come to mind. One time, my grandmother was in town for a visit, and my parents decided to throw a surprise birthday party for her. They invited all of our extended family members, and it turned out to be a wonderful celebration. It was great to see everyone gathered together, catching up and reminiscing about old times. It was a truly special moment, and I'll always treasure that memory. Another time, my siblings and I were all able to get together for a family vacation. We decided to take a road trip to a nearby national park, and it ended up being an incredible bonding experience. We hiked together, cooked meals together, and just enjoyed each other's company. It was a great opportunity to reconnect and create new memories together. These kinds of unexpected family gatherings can be so valuable, don't you think? They remind us of the importance of family and the joy that comes from spending time together. I'm so glad you shared your experience with me! It's always wonderful to hear about other people's happy memories with their loved ones. Oh, wow, that sounds absolutely wonderful! 😊 It's so great to hear that you were able to spend quality time with your entire family and reconnect in such a meaningful way. It's amazing how cooking and sharing a meal together can bring people closer, and it's even more special when it's with loved ones who have been apart for a while. I completely agree with you – those moments of unity and love are truly priceless, and it's a reminder of how lucky we are to have such supportive and caring families. It's always wonderful to hear about people coming together and creating new memories, especially when it's been a while since they've all been together. I'm sure you must have had a fantastic time reminiscing about old memories and making new ones with your family. It's great that you have such a loving and close-knit family, and I'm sure they feel the same way about you. As for me, I've had a few similar experiences with my own family, and they're always incredibly special and meaningful. One time, my entire extended family came together for a big reunion, and it was amazing to see everyone catching up and spending time together. We had a big feast with all of our favorite dishes, and it was just a wonderful time filled with laughter and love. Do you have any favorite family traditions or activities that you enjoy doing together? 🤔\",\n",
    "             \"Of course, I'm here to listen and support you. It takes a lot of courage to share your struggles with someone, and I want you to know that you can trust me with whatever you're going through. It's completely understandable to feel helpless and lost when dealing with physical and mental health issues, and it's important to remember that you're not alone in this. Please go ahead and share more about what you're experiencing. I'm here to listen and offer any support I can. It can be helpful to talk about your feelings and concerns with someone who understands, and I'm here to offer a listening ear and some words of encouragement. Remember, it's okay to feel overwhelmed and lost at times, but don't forget that you're strong and capable of getting through this. You're not alone in this, and there are resources available to help you. Don't hesitate to reach out to a mental health professional or a support group if you need additional help. Remember, you're not alone and you don't have to go through this alone. I'm here to support you in any way I can.\",\n",
    "             \"Of course, it sounds like you're going through a really tough time right now. It's completely understandable that you're feeling overwhelmed and struggling to cope with the physical and mental toll of your chronic health condition. It's important to remember that you're not alone in this, and there are people who care about you and want to help. It sounds like you're feeling a lot of emotional pain and frustration right now, and it's okay to feel that way. It's important to acknowledge and validate your feelings, rather than trying to suppress or ignore them. By allowing yourself to feel and express your emotions, you can start to work through them and find ways to cope with them. One thing that might be helpful is to find ways to take care of yourself and prioritize your well-being. This can include things like getting enough rest, eating a healthy diet, and finding activities that bring you joy and relaxation. It can also be helpful to talk to a therapist or counselor who can provide you with additional support and guidance. Remember, you don't have to go through this alone. There are people and resources available to help you cope with your chronic health condition and find ways to manage your emotions and improve your overall well-being. Don't be afraid to reach out and ask for help when you need it. Take care of yourself, and remember that you are not alone.\",\n",
    "             \"It sounds like you are feeling an incredible sense of pride and accomplishment after achieving a significant milestone at work. It's great to hear that you are feeling so positive and enthusiastic about your achievement, and it's understandable that you would want to share this exciting news with someone who can truly appreciate the effort and hard work that went into it. Sharing your success with a friend or colleague can be a great way to celebrate and reflect on your achievement. Not only can you share the excitement of the moment with someone who understands the effort that went into it, but you can also get some much-deserved recognition and support from someone who cares about your success. Remember to take some time to enjoy and celebrate your success, and don't be afraid to bask in the moment and feel proud of yourself. Your hard work and dedication have paid off, and you deserve to feel recognized and rewarded for your efforts.\",\n",
    "             \"That's amazing news! Congratulations on landing a big client opportunity! It sounds like it was a challenging but rewarding process, and it's great to hear that your persistence and hard work paid off in the end. It's always exciting to see a project or initiative come to fruition, especially when it involves working with a new client. It's a testament to your skills and dedication as a professional that you were able to build trust and rapport with the client and deliver a successful outcome. I can imagine how thrilling it must be to share this news with your team and leadership, and how proud you must feel of your accomplishment. It's moments like these that make all the long hours and hard work worth it, and it's great to have someone to share in the excitement with. Keep up the great work and keep pushing yourself to achieve even more in the future! You deserve it. 🎉\",\n",
    "             \"Dear friend, I can completely understand how you're feeling right now. It's so difficult when we feel like we can't rely on those closest to us during times of need. It can leave us feeling isolated and alone, like no one truly understands what we're going through. First of all, please know that you're not alone in this. Many of us have experienced similar situations where we feel like we're carrying a heavy weight on our chest with no clear way to shake it off. It's important to remember that you're not alone in this, and that there are people who care about you and want to help. It sounds like you're feeling a bit lost and unsure of how to cope with everything right now. That's completely normal. It can be really helpful to talk to someone about how you're feeling and to have someone listen and validate your emotions. Sometimes just sharing what we're going through with someone who cares can help us feel a bit lighter and more supported. If you don't have anyone to talk to in person, there are also many online resources and support groups available. You can reach out to a crisis hotline or a support group for people who are going through similar experiences. These resources can provide a safe and confidential space to talk about your feelings and connect with others who understand what you're going through. Remember, you don't have to go through this alone. There are people and resources available to help you work through your feelings and find support during this difficult time. You deserve to feel heard and understood, and it's okay to reach out for help when you need it. Take care of yourself and remember that things will get better with time. You're strong and capable, and you can get through this. Sending you lots of love and support, [Your Name]\",\n",
    "             \"It sounds like you're feeling really hurt and let down by your friends' lack of support. It's understandable that you would feel this way, especially when you've always been there for them in the past. It's important to remember that you can't control how others behave or prioritize their own needs, but you can control how you respond to the situation. It might be helpful to have a conversation with your friends about how you're feeling. You could approach them in a calm and non-accusatory manner, and explain how their lack of support has affected you. It's possible that they didn't realize how much you needed them, or that they were dealing with their own issues and couldn't be there for you in the way you wanted. It's also important to remember that you don't need your friends to fix your problems or make everything better. You are valuable and deserving of support and care, regardless of what others can or can't provide. It's okay to reach out to other people in your life for help and comfort, or to seek professional support if you're struggling to cope with your emotions. Remember that you're not alone in this, and there are people who care about you and want to help. Don't be afraid to reach out and ask for support when you need it.\",\n",
    "             \"It sounds like you had an incredibly special and romantic experience with your partner, and it's completely understandable that you want to share your happiness with someone. Sharing moments of joy and love with someone you care about can be incredibly fulfilling and can help strengthen your bond with them. It's great that you have someone in your life who is thoughtful and caring, and it's wonderful that they went to the effort of planning a romantic picnic for you. It's moments like these that can make you feel truly loved and appreciated, and it's important to cherish and appreciate them. If you want to talk about your experience with someone, there are plenty of people who would be happy to listen and share in your joy. You could consider talking to a close friend or family member, or even sharing your experience on social media if you want to reach a wider audience. Remember to take time to savor and enjoy your happiness, and don't be afraid to express your feelings to your partner or to someone else. Sharing your emotions and experiences with others can be a great way to connect and strengthen your relationships, and it can also help you process and appreciate the beauty of life's moments.\",\n",
    "             \"Ah, I see! It sounds like your partner really went above and beyond to make the surprise picnic special. It's great that they took the time to think about your preferences and make sure everything was perfect. It's also sweet that they were able to keep the surprise a secret until the big reveal. I'm sure you must have been on cloud nine the whole time, wondering what was going on. Did you have a favorite part of the picnic? Maybe a particular food or drink that stood out to you?\"]\n",
    "ref = [\"Wow, that's wonderful! So happy to hear that you had a great time with your family. The rarity of previous gatherings must have made it an extra special surprise, and being able to bond with them after so long must have been an absolute delight! If you don't mind me asking, what led to the sudden gathering?\",\n",
    "       \"Wow, sharing those special moments with your loved ones definitely sounds like an amazing experience. The serendipity of it just makes it ever more special! I unfortunately don't have any similar experiences to share, but I'm happy to hear about your magical moment!\",\n",
    "       \"Damn, that really sucks having to handle both physical and mental health issues. Definitely sounds like an extremely exhausting and painful experience, especially when there's no one to talk to about it. Sure I don't mind you sharing, what kind of physical and mental issues do you have?\",\n",
    "       \"Wow, really unfortunate that you have to put up with a chronic health condition. I totally get feeling a sense of despair from the pain. It sounds utterly dreadful to go through. Hope your condition improves soon though, do you have any plans on what steps to make to do so?\",\n",
    "       \"Wow, glad to hear about your amazing achievement! Must be an amazing feeling finally getting to reap the fruits of your effort. So happy for you! If you don't mind me asking, what kind of achievement did you get, and how did you manage to achieve it?\",\n",
    "       \"That's great! Sounds like you really put in the hours to get the work done, makes finally landing the client so much more meaningful! How did you manage to stay motivated throughout? Was it the people around you or something else?\",\n",
    "       \"Damn, that sucks that they're not there for you when you needed them to be. Sounds terrible to be all alone like that with no one to count on. If you don't mind me asking, what happened that you had to count on them, and why weren't they there for you?\",\n",
    "       \"Wow, that's really unfortunate that they just ignored you like that, especially when you would never do the same. Really sucks that they didn't reciprocate the care you showed them. I totally get feeling disappointed in them, they should've definitely tried to provide at least some kind of solace. Do you have any plans on talking to them about it?\",\n",
    "       \"Wow, a surprise picnic at the park sounds amazing! So considerate of them to include all your favorite foods as well. Definitely sounds like a wonderful time. If you don't mind me asking, how did they surprise you with the picnic?\",\n",
    "       \"Wow, that really is so romantic of them. Sounds like they spent all week planning the picnic, really shows how much they care about you having a great time. So happy for you to have experienced such a blessed moment! Was the surprise held to celebrate any special occasion? Or was it just a sudden display of care?\"]\n",
    "ref_bleu = [[x] for x in ref]\n",
    "print(ref_bleu)"
   ]
  },
  {
   "cell_type": "code",
   "execution_count": 2,
   "metadata": {},
   "outputs": [
    {
     "name": "stdout",
     "output_type": "stream",
     "text": [
      "{'rouge1': 0.41008177052577743, 'rouge2': 0.14262316093034882, 'rougeL': 0.2721659175317973, 'rougeLsum': 0.2727729457255636}\n",
      "{'bleu': 0.11280544537353897, 'precisions': [0.3857566765578635, 0.13253012048192772, 0.07033639143730887, 0.04503105590062112], 'brevity_penalty': 1.0, 'length_ratio': 1.2057245080500893, 'translation_length': 674, 'reference_length': 559}\n",
      "{'meteor': 0.3637018664803148}\n"
     ]
    }
   ],
   "source": [
    "### evaluate ft model\n",
    "rouge_results = rouge.compute(predictions=pred_ft, references=ref)\n",
    "bleu_results = bleu.compute(predictions=pred_ft, references=ref_bleu)\n",
    "meteor_results = meteor.compute(predictions=pred_ft, references=ref_bleu)\n",
    "print(rouge_results)\n",
    "print(bleu_results)\n",
    "print(meteor_results)"
   ]
  },
  {
   "cell_type": "code",
   "execution_count": 3,
   "metadata": {},
   "outputs": [
    {
     "name": "stdout",
     "output_type": "stream",
     "text": [
      "{'rouge1': 0.20958418685556723, 'rouge2': 0.044323346376158326, 'rougeL': 0.13296998725174525, 'rougeLsum': 0.13249587340821228}\n",
      "{'bleu': 0.015354016805290721, 'precisions': [0.12263771612384398, 0.025433992733144933, 0.007296311309282529, 0.002442002442002442], 'brevity_penalty': 1.0, 'length_ratio': 4.449016100178891, 'translation_length': 2487, 'reference_length': 559}\n",
      "{'meteor': 0.2646776394677609}\n"
     ]
    }
   ],
   "source": [
    "### evaluate base model\n",
    "rouge_results = rouge.compute(predictions=pred_base, references=ref)\n",
    "bleu_results = bleu.compute(predictions=pred_base, references=ref_bleu)\n",
    "meteor_results = meteor.compute(predictions=pred_base, references=ref_bleu)\n",
    "print(rouge_results)\n",
    "print(bleu_results)\n",
    "print(meteor_results)"
   ]
  }
 ],
 "metadata": {
  "kernelspec": {
   "display_name": "Python 3",
   "language": "python",
   "name": "python3"
  },
  "language_info": {
   "codemirror_mode": {
    "name": "ipython",
    "version": 3
   },
   "file_extension": ".py",
   "mimetype": "text/x-python",
   "name": "python",
   "nbconvert_exporter": "python",
   "pygments_lexer": "ipython3",
   "version": "3.9.4"
  }
 },
 "nbformat": 4,
 "nbformat_minor": 2
}
